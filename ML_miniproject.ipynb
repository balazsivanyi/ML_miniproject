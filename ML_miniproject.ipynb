{
 "cells": [
  {
   "cell_type": "markdown",
   "metadata": {},
   "source": [
    "## Session-based music recommendation ML algorithm using V-SKNN model on Spotify datasets"
   ]
  },
  {
   "cell_type": "markdown",
   "metadata": {},
   "source": [
    "### Installing and setting up libraries and dependencies"
   ]
  },
  {
   "cell_type": "code",
   "execution_count": 5,
   "metadata": {},
   "outputs": [],
   "source": [
    "%matplotlib inline\n",
    "\n",
    "import numpy as np\n",
    "import matplotlib as mpl\n",
    "import matplotlib.pyplot as plt\n",
    "import spotipy\n",
    "from spotipy.oauth2 import SpotifyClientCredentials"
   ]
  },
  {
   "cell_type": "code",
   "execution_count": 23,
   "metadata": {},
   "outputs": [
    {
     "name": "stdout",
     "output_type": "stream",
     "text": [
      "   1 spotify:playlist:6D6jqXLegq6g0UnqnUiXlb det er efterår\n",
      "   2 spotify:playlist:4S4bnwexgoeYa8Hauhs7wO 💛💛💛\n",
      "   3 spotify:playlist:69KLUPFLapFR9IOuG5t2a2 🟢🟢🟢\n",
      "   4 spotify:playlist:1AAZEOrpn724UCcQMIH7wI %%%%%%%%%%%%%%%%%%%%%%%%%%%%%%%%%%%%%%%%%%\n",
      "   5 spotify:playlist:6oMAm0Rhp1Yf4uYvrlmhGa 💽 🎛🎚🎚🎛 💽\n",
      "   6 spotify:playlist:0Ow7Q7pDgu2u7x2yqFLln6 ⬜️⬜️⬜️\n",
      "   7 spotify:playlist:4BvcUvmv7hJ1q2NFuZJmJ9 🟠🟠🟠\n",
      "   8 spotify:playlist:5rhYzf1ogZZHFfhFngSca2 FORÅRSOMMAR\n",
      "   9 spotify:playlist:49pELFc6EtLlWoKvkWpEpP VINTER\n",
      "  10 spotify:playlist:1kMmPE3O04zYB8Ba1TNtoe EFTERÅR\n",
      "  11 spotify:playlist:083tGWyF9YpqcvYbXha7Be $$$\n",
      "  12 spotify:playlist:573AN5VCKnWFzdMntQveZj sommer\n",
      "  13 spotify:playlist:7Gwq2OsIZh5BQKU9J983OW forår\n",
      "  14 spotify:playlist:1KR84OyKCYUJhCTBzhVzrq vinter\n",
      "  15 spotify:playlist:1nQ9lUHfX2sawlhcBFB3eM efterår\n",
      "  16 spotify:playlist:1DEsvmSCnHmUfl2749Ou3f legnyarabb\n",
      "  17 spotify:playlist:6UIy5jQ1yOXSWA93HjIhm0 tavaszodik\n",
      "  18 spotify:playlist:0bZ7uwCFhcTBBBcaOT8ost tél lett\n",
      "  19 spotify:playlist:0fWGnaV8ApUY51h7zcN2So őszvan\n",
      "  20 spotify:playlist:2jvmo3mBX44tXvbH24vJAY nyaramnyaradnyarunk\n"
     ]
    }
   ],
   "source": [
    "auth_manager = SpotifyClientCredentials(client_id='e2e093a1d1b8492fa63693091a4b2937', client_secret='9b0805b38aef44f285ef4e8b5936e7ef')\n",
    "sp = spotipy.Spotify(auth_manager=auth_manager)\n",
    "\n",
    "playlists = sp.user_playlists('11140762288', limit = 50, offset = 0)\n",
    "while playlists:\n",
    "    for i, playlist in enumerate(playlists['items']):\n",
    "        print(\"%4d %s %s\" % (i + 1 + playlists['offset'], playlist['uri'],  playlist['name']))\n",
    "    if playlists['next']:\n",
    "        playlists = sp.next(playlists)\n",
    "    else:\n",
    "        playlists = None\n"
   ]
  },
  {
   "cell_type": "markdown",
   "metadata": {},
   "source": []
  }
 ],
 "metadata": {
  "interpreter": {
   "hash": "31f2aee4e71d21fbe5cf8b01ff0e069b9275f58929596ceb00d14d90e3e16cd6"
  },
  "kernelspec": {
   "display_name": "Python 3.7.3 64-bit",
   "language": "python",
   "name": "python3"
  },
  "language_info": {
   "codemirror_mode": {
    "name": "ipython",
    "version": 3
   },
   "file_extension": ".py",
   "mimetype": "text/x-python",
   "name": "python",
   "nbconvert_exporter": "python",
   "pygments_lexer": "ipython3",
   "version": "3.8.10"
  },
  "orig_nbformat": 4
 },
 "nbformat": 4,
 "nbformat_minor": 2
}
